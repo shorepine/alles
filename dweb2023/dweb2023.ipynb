{
 "cells": [
  {
   "cell_type": "markdown",
   "metadata": {},
   "source": [
    "# ➡ https://github.com/parkan/alles"
   ]
  },
  {
   "cell_type": "markdown",
   "metadata": {},
   "source": [
    "![alles 1977](alles-instrument-1200x900.jpg)\n",
    "\n",
    "_https://disquiet.com/2017/02/04/alles-machine-timara-jackson-talbert/_\n",
    "\n",
    "![amy chip](amy.jpeg)\n",
    "\n",
    "_https://www.youtube.com/watch?v=l0wVHq_8Zic_\n",
    "\n",
    "![65xem](65xem.jpg)\n",
    "\n",
    "_https://www.atari-computermuseum.de/65xem.htm_\n",
    "\n",
    "➡ Vintage Digital Synthesizer 1977 _https://www.youtube.com/watch?v=Rfeh1s4BOwI&t=47s_\n",
    "\n",
    "➡ Judy Jackson performs on the Alles Machine _https://www.youtube.com/watch?v=t-up62BP8WY&t=157s_\n",
    "\n",
    "![Partials](https://raw.githubusercontent.com/bwhitman/shorepine/main/pics/partials.png)\n"
   ]
  },
  {
   "cell_type": "code",
   "execution_count": null,
   "metadata": {},
   "outputs": [],
   "source": []
  },
  {
   "cell_type": "code",
   "execution_count": 1,
   "metadata": {},
   "outputs": [
    {
     "name": "stdout",
     "output_type": "stream",
     "text": [
      "Connected to 172.16.1.189 as local IP for multicast IF\n"
     ]
    }
   ],
   "source": [
    "import alles"
   ]
  },
  {
   "cell_type": "code",
   "execution_count": null,
   "metadata": {},
   "outputs": [],
   "source": [
    "alles.send(osc=0, wave=alles.SINE, freq=220, amp=1)"
   ]
  },
  {
   "cell_type": "code",
   "execution_count": null,
   "metadata": {},
   "outputs": [],
   "source": [
    "alles.send(osc=0, wave=alles.SINE, note=57, vel=1)"
   ]
  },
  {
   "cell_type": "code",
   "execution_count": null,
   "metadata": {},
   "outputs": [],
   "source": [
    "alles.send(osc=0,vel=1,note=50,wave=alles.PARTIALS,patch=5) "
   ]
  },
  {
   "cell_type": "code",
   "execution_count": null,
   "metadata": {},
   "outputs": [],
   "source": [
    "import time\n",
    "alles.reset()\n",
    "for i in range(16):\n",
    "    alles.send(osc=i, wave=alles.SINE, freq=110+(i*80), vel=((16-i)/32.0))\n",
    "    time.sleep(0.5) # Sleep for 0.5 seconds"
   ]
  },
  {
   "cell_type": "code",
   "execution_count": null,
   "metadata": {},
   "outputs": [],
   "source": [
    "alles.send(osc=0,wave=alles.SAW_DOWN,filter_freq=2500, resonance=5, filter_type=alles.FILTER_LPF)\n",
    "alles.send(osc=0, vel=1, note=40)"
   ]
  },
  {
   "cell_type": "code",
   "execution_count": 2,
   "metadata": {},
   "outputs": [],
   "source": [
    "alles.send(osc=0,wave=alles.SAW_DOWN,filter_freq=2500, resonance=5, filter_type=alles.FILTER_LPF)\n",
    "alles.send(osc=0, bp0=\"100,0.5,25,0\", bp0_target=alles.TARGET_FILTER_FREQ)\n",
    "alles.send(osc=0, vel=1, note=40)\n",
    "\n",
    "# bp0_target=alles.TARGET_FILTER_FREQ+alles.TARGET_RESONANCE"
   ]
  },
  {
   "cell_type": "code",
   "execution_count": null,
   "metadata": {},
   "outputs": [],
   "source": [
    "alles.send(osc=1, wave=alles.SAW_DOWN, freq=0.5, amp=0.75)\n",
    "alles.send(osc=0, wave=alles.PULSE, duty=0.5, freq=220, mod_source=1, mod_target=alles.TARGET_DUTY)\n",
    "alles.send(osc=0, vel=0.5)"
   ]
  },
  {
   "cell_type": "code",
   "execution_count": null,
   "metadata": {},
   "outputs": [],
   "source": [
    "import time\n",
    "alles.reset()\n",
    "speakers = len(alles.sync())\n",
    "for i in range(16):\n",
    "    alles.send(osc=i, wave=alles.SINE, freq=110+(i*80), vel=((16-i)/32.0), client=i % speakers)\n",
    "    time.sleep(0.5) # Sleep for 0.5 seconds"
   ]
  },
  {
   "cell_type": "code",
   "execution_count": null,
   "metadata": {},
   "outputs": [],
   "source": [
    "alles.send(osc=0,vel=1,note=50,wave=alles.PARTIALS,patch=5) # a nice organ tone\n",
    "alles.send(osc=0,vel=1,note=55,wave=alles.PARTIALS,patch=5) # change the frequency\n",
    "alles.send(osc=0,vel=1,note=50,wave=alles.PARTIALS,patch=6,ratio=0.2) # ratio slows down the partial playback"
   ]
  },
  {
   "cell_type": "code",
   "execution_count": null,
   "metadata": {},
   "outputs": [],
   "source": [
    "# AM\n",
    "alles.send(osc=0,vel=1,note=50,wave=alles.PARTIALS,patch=6,feedback=0) # no bandwidth\n",
    "#alles.send(osc=0,vel=1,note=50,wave=alles.PARTIALS,patch=6,feedback=0.5) # more bandwidth"
   ]
  },
  {
   "cell_type": "code",
   "execution_count": null,
   "metadata": {},
   "outputs": [],
   "source": [
    "# FM\n",
    "alles.send(wave=alles.ALGO,osc=0,patch=0,note=50,vel=1)\n",
    "# alles.send(wave=alles.ALGO,osc=0,patch=1,note=50,vel=1)"
   ]
  },
  {
   "cell_type": "code",
   "execution_count": null,
   "metadata": {},
   "outputs": [],
   "source": [
    "# FM (from scratch)\n",
    "alles.reset()\n",
    "alles.send(wave=alles.SINE,ratio=0.2,amp=0.1,osc=0,bp0_target=alles.TARGET_AMP,bp0=\"1000,0,0,0\")\n",
    "alles.send(wave=alles.SINE,ratio=1,amp=1,osc=1)\n",
    "alles.send(wave=alles.ALGO,algorithm=0,algo_source=\"-1,-1,-1,-1,1,0\",osc=2)"
   ]
  },
  {
   "cell_type": "code",
   "execution_count": null,
   "metadata": {},
   "outputs": [],
   "source": [
    "alles.send(osc=2, note=60, vel=3)"
   ]
  },
  {
   "cell_type": "code",
   "execution_count": null,
   "metadata": {},
   "outputs": [],
   "source": [
    "alles.reset()\n",
    "alles.send(osc=0,wave=alles.KS,note=60,vel=1,feedback=0.996)"
   ]
  },
  {
   "cell_type": "code",
   "execution_count": null,
   "metadata": {},
   "outputs": [],
   "source": [
    "alles.send(osc=0, wave=alles.PCM, vel=1, patch=10) # cowbell\n",
    "alles.send(osc=0, wave=alles.PCM, vel=1, patch=10, note=70) # higher cowbell! "
   ]
  },
  {
   "cell_type": "code",
   "execution_count": null,
   "metadata": {},
   "outputs": [],
   "source": [
    "alles.send(wave=alles.PCM,vel=1,patch=21,feedback=0) # clean guitar string, no looping\n",
    "alles.send(wave=alles.PCM,vel=1,patch=21,feedback=1) # loops forever until note off\n",
    "alles.send(vel=0) # note off\n",
    "alles.send(wave=alles.PCM,vel=1,patch=35,feedback=1) # nice violin"
   ]
  },
  {
   "cell_type": "code",
   "execution_count": null,
   "metadata": {},
   "outputs": [],
   "source": [
    "alles.reset()"
   ]
  },
  {
   "cell_type": "code",
   "execution_count": null,
   "metadata": {},
   "outputs": [
    {
     "data": {
      "text/plain": [
       "{0: {'reliability': 1.0,\n",
       "  'avg_rtt': 0.0,\n",
       "  'ipv4': 189,\n",
       "  'battery': ('unknown', 0)}}"
      ]
     },
     "execution_count": 11,
     "metadata": {},
     "output_type": "execute_result"
    }
   ],
   "source": [
    "alles.sync()"
   ]
  }
 ],
 "metadata": {
  "kernelspec": {
   "display_name": "Python 3.9.5 ('.venv': venv)",
   "language": "python",
   "name": "python3"
  },
  "language_info": {
   "codemirror_mode": {
    "name": "ipython",
    "version": 3
   },
   "file_extension": ".py",
   "mimetype": "text/x-python",
   "name": "python",
   "nbconvert_exporter": "python",
   "pygments_lexer": "ipython3",
   "version": "3.9.5"
  },
  "orig_nbformat": 4,
  "vscode": {
   "interpreter": {
    "hash": "a94821ad6a1681592255ab480bfa15c05b99ce8fec46db030fdb1d1a0b63cc74"
   }
  }
 },
 "nbformat": 4,
 "nbformat_minor": 2
}
